{
  "nbformat": 4,
  "nbformat_minor": 0,
  "metadata": {
    "colab": {
      "provenance": []
    },
    "kernelspec": {
      "name": "python3",
      "display_name": "Python 3"
    },
    "language_info": {
      "name": "python"
    }
  },
  "cells": [
    {
      "cell_type": "code",
      "source": [
        "# Definimos la función f(x) = x^2 - 3\n",
        "def f(x):\n",
        "    return x**2 - 3\n",
        "\n",
        "# Establecemos el intervalo inicial [a, b]\n",
        "a = 1\n",
        "b = 2\n",
        "\n",
        "# Definimos la tolerancia\n",
        "tolerancia = 0.0001\n",
        "\n",
        "# Contador de iteraciones\n",
        "iteracion = 0\n",
        "\n",
        "# Mientras el intervalo sea mayor a la tolerancia y no pasemos de 100 iteraciones\n",
        "while (b - a)/2 > tolerancia and iteracion < 100:\n",
        "    # Calculamos el punto medio del intervalo\n",
        "    c = (a + b) / 2\n",
        "\n",
        "    # Imprimimos el número de iteración, el valor de c y el valor de f(c)\n",
        "    print(\"Iteración\", iteracion + 1, \": c =\", c, \"f(c) =\", f(c))\n",
        "\n",
        "    # Si f(c) es 0, encontramos la raíz exacta\n",
        "    if f(c) == 0:\n",
        "        break\n",
        "    # Si hay un cambio de signo entre a y c, la raíz está en [a, c]\n",
        "    elif f(a) * f(c) < 0:\n",
        "        b = c\n",
        "    # Si no, la raíz está en [c, b]\n",
        "    else:\n",
        "        a = c\n",
        "\n",
        "    # Aumentamos el número de iteraciones\n",
        "    iteracion += 1\n",
        "\n",
        "# Imprimimos la aproximación final de la raíz\n",
        "print(\"\\nAproximación de raíz:\", c)\n"
      ],
      "metadata": {
        "colab": {
          "base_uri": "https://localhost:8080/"
        },
        "id": "YJVB8pIdlv0F",
        "outputId": "102c1b8c-5601-4e00-cde4-f5013a0d80ad"
      },
      "execution_count": null,
      "outputs": [
        {
          "output_type": "stream",
          "name": "stdout",
          "text": [
            "Iteración 1 : c = 1.5 f(c) = -0.75\n",
            "Iteración 2 : c = 1.75 f(c) = 0.0625\n",
            "Iteración 3 : c = 1.625 f(c) = -0.359375\n",
            "Iteración 4 : c = 1.6875 f(c) = -0.15234375\n",
            "Iteración 5 : c = 1.71875 f(c) = -0.0458984375\n",
            "Iteración 6 : c = 1.734375 f(c) = 0.008056640625\n",
            "Iteración 7 : c = 1.7265625 f(c) = -0.01898193359375\n",
            "Iteración 8 : c = 1.73046875 f(c) = -0.0054779052734375\n",
            "Iteración 9 : c = 1.732421875 f(c) = 0.001285552978515625\n",
            "Iteración 10 : c = 1.7314453125 f(c) = -0.0020971298217773438\n",
            "Iteración 11 : c = 1.73193359375 f(c) = -0.00040602684020996094\n",
            "Iteración 12 : c = 1.732177734375 f(c) = 0.00043970346450805664\n",
            "Iteración 13 : c = 1.7320556640625 f(c) = 1.6823410987854004e-05\n",
            "\n",
            "Aproximación de raíz: 1.7320556640625\n"
          ]
        }
      ]
    }
  ]
}