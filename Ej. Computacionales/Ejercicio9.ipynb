{
  "nbformat": 4,
  "nbformat_minor": 0,
  "metadata": {
    "colab": {
      "provenance": []
    },
    "kernelspec": {
      "name": "python3",
      "display_name": "Python 3"
    },
    "language_info": {
      "name": "python"
    }
  },
  "cells": [
    {
      "cell_type": "markdown",
      "source": [
        "## Ejercicio 9"
      ],
      "metadata": {
        "id": "aRGja3TYSHG8"
      }
    },
    {
      "cell_type": "code",
      "execution_count": 8,
      "metadata": {
        "colab": {
          "base_uri": "https://localhost:8080/"
        },
        "id": "EXmWuiVrzhCe",
        "outputId": "b80de7ab-7fda-48b3-e591-c34fd26b059a"
      },
      "outputs": [
        {
          "output_type": "execute_result",
          "data": {
            "text/plain": [
              "(np.float64(1.829383601933849),\n",
              " np.float64(2.370686917662517),\n",
              " np.float64(3.722112773106613),\n",
              " np.float64(0.9100075724887138),\n",
              " np.float64(3.733079028654685))"
            ]
          },
          "metadata": {},
          "execution_count": 8
        }
      ],
      "source": [
        "import numpy as np\n",
        "\n",
        "\"\"\"\n",
        "    Método de Newton-Raphson para encontrar raíces de una función.\n",
        "\n",
        "    Parámetros:\n",
        "    - funcion: la función f(x)\n",
        "    - derivada: la derivada f'(x)\n",
        "    - x_inicial: valor inicial para comenzar la iteración\n",
        "    - tolerancia: error máximo aceptable para detener el método\n",
        "    - iter_max: número máximo de iteraciones permitidas\n",
        "\n",
        "    Retorna:\n",
        "    - Una aproximación de la raíz o None si no converge\n",
        "\"\"\"\n",
        "\n",
        "# Método de Newton\n",
        "def newton(funcion, derivada, x0, tolerancia=1e-5, iter_max=100):\n",
        "    x1 = x0  # Empezamos con el valor inicial dado\n",
        "    for _ in range(iter_max):  # Iteramos hasta el máximo permitido\n",
        "        f_valor = funcion(x1)   # Evaluamos f(x)\n",
        "        df_valor = derivada(x1)  # Evaluamos f'(x)\n",
        "        if df_valor == 0:\n",
        "            return None  # Evitar división entre cero\n",
        "        # Aplicamos la fórmula de Newton: x_n+1 = x_n - f(x)/f'(x)\n",
        "        x_siguiente = x1 - f_valor / df_valor\n",
        "        # Si el cambio es menor a la tolerancia, terminamos\n",
        "        if abs(x_siguiente - x1) < tolerancia:\n",
        "            return x_siguiente\n",
        "        x1 = x_siguiente # Actualizamos para la siguiente iteración\n",
        "    return None  # Si no converge en las iteraciones dadas\n",
        "\n",
        "\n",
        "# Ejercicio a\n",
        "fa = lambda x: np.exp(x) + 2**(-x) + 2*np.cos(x) - 6\n",
        "dfa = lambda x: np.exp(x) - 2**(-x) * np.log(2) - 2*np.sin(x)\n",
        "soluciona = newton(fa, dfa, x0=1.5)\n",
        "\n",
        "# Ejercicio b\n",
        "fb = lambda x: 2*x*np.cos(2*x) - (x - 2)**2\n",
        "dfb = lambda x: 2*np.cos(2*x) - 4*x*np.sin(2*x) - 2*(x - 2)\n",
        "solucionb1 = newton(fb, dfb, x0=2.5)\n",
        "solucionb2 = newton(fb, dfb, x0=3.5)\n",
        "\n",
        "# Ejercicio c\n",
        "fc = lambda x: np.exp(x) - 3*x**2\n",
        "dfc = lambda x: np.exp(x) - 6*x\n",
        "solucionc1 = newton(fc, dfc, x0=0.5)\n",
        "solucionc2 = newton(fc, dfc, x0=4.0)\n",
        "\n",
        "(soluciona, solucionb1, solucionb2, solucionc1, solucionc2)\n"
      ]
    }
  ]
}