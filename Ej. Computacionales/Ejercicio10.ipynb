{
  "nbformat": 4,
  "nbformat_minor": 0,
  "metadata": {
    "colab": {
      "provenance": []
    },
    "kernelspec": {
      "name": "python3",
      "display_name": "Python 3"
    },
    "language_info": {
      "name": "python"
    }
  },
  "cells": [
    {
      "cell_type": "markdown",
      "source": [
        "## Ejercicio 10"
      ],
      "metadata": {
        "id": "6US7Yh1Bczk7"
      }
    },
    {
      "cell_type": "code",
      "execution_count": 4,
      "metadata": {
        "id": "vYBfCj7Xz--g",
        "outputId": "4082eab4-9adc-42f9-e1f4-38219f1b02da",
        "colab": {
          "base_uri": "https://localhost:8080/"
        }
      },
      "outputs": [
        {
          "output_type": "execute_result",
          "data": {
            "text/plain": [
              "(np.float64(1.8293836019394727),\n",
              " np.float64(2.3706869174637584),\n",
              " np.float64(3.722112773420417),\n",
              " np.float64(0.9100075715386231),\n",
              " np.float64(3.7330790313204982))"
            ]
          },
          "metadata": {},
          "execution_count": 4
        }
      ],
      "source": [
        "import numpy as np\n",
        "\n",
        "\"\"\"\n",
        "    Método de la Secante para encontrar raíces de una función.\n",
        "\n",
        "    Parámetros:\n",
        "    - funcion: la función f(x)\n",
        "    - x0, x1: dos valores iniciales distintos\n",
        "    - tolerancia: error máximo aceptable para detener el método\n",
        "    - iter_max: número máximo de iteraciones permitidas\n",
        "\n",
        "    Retorna:\n",
        "    - Una aproximación de la raíz o None si no converge\n",
        "  \"\"\"\n",
        "def secante(funcion, x0, x1, tolerancia=1e-5, iter_max=100):\n",
        "    for _ in range(iter_max):  # Iteramos hasta el máximo permitido\n",
        "        f_x0 = funcion(x0)  # Evaluamos f(x0)\n",
        "        f_x1 = funcion(x1)  # Evaluamos f(x1)\n",
        "        if f_x1 - f_x0 == 0:\n",
        "            return None  # Evitar división entre cero\n",
        "        # Aplicamos la fórmula de la secante:\n",
        "        # x2 = x1 - f(x1) * (x1 - x0) / (f(x1) - f(x0))\n",
        "        x2 = x1 - f_x1 * (x1 - x0) / (f_x1 - f_x0)\n",
        "\n",
        "        # Verificamos si ya estamos suficientemente cerca de la raíz\n",
        "        if abs(x2 - x1) < tolerancia:\n",
        "            return x2\n",
        "\n",
        "        # Preparamos los nuevos valores para la siguiente iteración\n",
        "        x0, x1 = x1, x2\n",
        "    return None  # Si no converge en las iteraciones dadas\n",
        "\n",
        "\n",
        "# Ejercicio a con secante\n",
        "fa = lambda x: np.exp(x) + 2**(-x) + 2*np.cos(x) - 6\n",
        "dfa = lambda x: np.exp(x) - 2**(-x) * np.log(2) - 2*np.sin(x)\n",
        "soluciona = secante(fa, 1.0, 2.0)\n",
        "\n",
        "# Ejercicio b con secante\n",
        "fb = lambda x: 2*x*np.cos(2*x) - (x - 2)**2\n",
        "dfb = lambda x: 2*np.cos(2*x) - 4*x*np.sin(2*x) - 2*(x - 2)\n",
        "solucionb1 = secante(fb, 2.0, 2.8)\n",
        "solucionb2 = secante(fb, 3.0, 4.0)\n",
        "\n",
        "# Ejercicio c con secante\n",
        "fc = lambda x: np.exp(x) - 3*x**2\n",
        "dfc = lambda x: np.exp(x) - 6*x\n",
        "solucionc1 = secante(fc, 0.0, 1.0)\n",
        "solucionc2 = secante(fc, 3.0, 5.0)\n",
        "\n",
        "(soluciona, solucionb1, solucionb2, solucionc1, solucionc2)\n"
      ]
    }
  ]
}