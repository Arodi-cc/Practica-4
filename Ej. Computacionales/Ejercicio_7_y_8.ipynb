{
  "nbformat": 4,
  "nbformat_minor": 0,
  "metadata": {
    "colab": {
      "provenance": []
    },
    "kernelspec": {
      "name": "python3",
      "display_name": "Python 3"
    },
    "language_info": {
      "name": "python"
    }
  },
  "cells": [
    {
      "cell_type": "code",
      "execution_count": 1,
      "metadata": {
        "colab": {
          "base_uri": "https://localhost:8080/"
        },
        "id": "Yy61SukRMMjr",
        "outputId": "6a8daea9-bdb6-4b91-853e-7382ea75f97b"
      },
      "outputs": [
        {
          "output_type": "stream",
          "name": "stdout",
          "text": [
            "Iteración\t x\n",
            "0\t\t 1.0\n",
            "1\t\t 3.5\n",
            "2\t\t 2.607142857142857\n",
            "3\t\t 2.454256360078278\n",
            "4\t\t 2.4494943716069653\n"
          ]
        }
      ],
      "source": [
        "#7.\n",
        "# Definimos la función f(x) y su derivada f'(x)\n",
        "def f(x):\n",
        "    return x**2 - 6\n",
        "\n",
        "def df(x):\n",
        "    return 2*x\n",
        "\n",
        "# Valor inicial\n",
        "x = 1.0\n",
        "\n",
        "# Método de Newton (5 iteraciones)\n",
        "print(\"Iteración\\t x\")\n",
        "for i in range(5):\n",
        "    print(f\"{i}\\t\\t {x}\")\n",
        "    x = x - f(x)/df(x)"
      ]
    },
    {
      "cell_type": "code",
      "source": [
        "#8.\n",
        "#A) analogamente al 7\n",
        "def f(x):\n",
        "    return x**2 - 6\n",
        "\n",
        "x0 = 3.0\n",
        "x1 = 2.0\n",
        "\n",
        "print(\"Iteración\\t x\")\n",
        "print(f\"0\\t\\t {x0}\")\n",
        "print(f\"1\\t\\t {x1}\")\n",
        "\n",
        "for i in range(2, 5):\n",
        "    x2 = x1 - f(x1)*(x1 - x0)/(f(x1) - f(x0))\n",
        "    print(f\"{i}\\t\\t {x2}\")\n",
        "    x0, x1 = x1, x2\n",
        "\n",
        "#B)\n",
        "def f(x):\n",
        "    return x**2 - 6\n",
        "\n",
        "def df(x):\n",
        "    return 2*x\n",
        "\n",
        "x = 3.0\n",
        "\n",
        "print(\"Iteración\\t x\")\n",
        "for i in range(5):\n",
        "    print(f\"{i}\\t\\t {x}\")\n",
        "    x = x - f(x)/df(x)"
      ],
      "metadata": {
        "colab": {
          "base_uri": "https://localhost:8080/"
        },
        "id": "BwJV0rdkMTPS",
        "outputId": "8f3f46d9-8743-4289-ae42-642817c51b68"
      },
      "execution_count": 2,
      "outputs": [
        {
          "output_type": "stream",
          "name": "stdout",
          "text": [
            "Iteración\t x\n",
            "0\t\t 3.0\n",
            "1\t\t 2.0\n",
            "2\t\t 2.4\n",
            "3\t\t 2.4545454545454546\n",
            "4\t\t 2.449438202247191\n",
            "Iteración\t x\n",
            "0\t\t 3.0\n",
            "1\t\t 2.5\n",
            "2\t\t 2.45\n",
            "3\t\t 2.4494897959183675\n",
            "4\t\t 2.4494897427831788\n"
          ]
        }
      ]
    }
  ]
}